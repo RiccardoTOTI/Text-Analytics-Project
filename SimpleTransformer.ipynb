{
  "nbformat": 4,
  "nbformat_minor": 0,
  "metadata": {
    "accelerator": "GPU",
    "colab": {
      "name": "SimpleTransformer.ipynb",
      "provenance": [],
      "collapsed_sections": []
    },
    "kernelspec": {
      "display_name": "Python 3",
      "name": "python3"
    },
    "language_info": {
      "name": "python"
    }
  },
  "cells": [
    {
      "cell_type": "code",
      "metadata": {
        "id": "nJU9kTmC2yj3"
      },
      "source": [
        "train_df['text'] =  [re.sub(r'<[a-zA-Z]+>','', str(x)) for x in train_df['text']] #rimuovo <post>\n",
        "eval_df['text'] =  [re.sub(r'<[a-zA-Z]+>','', str(x)) for x in eval_df['text']]"
      ],
      "execution_count": null,
      "outputs": []
    },
    {
      "cell_type": "code",
      "metadata": {
        "id": "rLUwGirC2z0W"
      },
      "source": [
        "train_df['text'] =  [re.sub(r'\\n','', str(x)) for x in train_df['text']] #rimuovo </n>\n",
        "eval_df['text'] =   [re.sub(r'\\n','', str(x)) for x in eval_df['text']]"
      ],
      "execution_count": null,
      "outputs": []
    },
    {
      "cell_type": "code",
      "metadata": {
        "id": "dA5kQWdf2z2w"
      },
      "source": [
        "train_df['text'] =  [re.sub(r'</[a-zA-Z]+>','', str(x)) for x in train_df['text']] #rimuovo </post>\n",
        "eval_df['text'] =  [re.sub(r'</[a-zA-Z]+>','', str(x)) for x in eval_df['text']] "
      ],
      "execution_count": null,
      "outputs": []
    },
    {
      "cell_type": "code",
      "metadata": {
        "id": "9EnxSuNy2z6R"
      },
      "source": [
        "train_df['text'] =  [re.sub(r'\\]','', str(x)) for x in train_df['text']] #rimuovo ]\n",
        "eval_df['text'] =  [re.sub(r'\\]','', str(x)) for x in eval_df['text']] "
      ],
      "execution_count": null,
      "outputs": []
    },
    {
      "cell_type": "code",
      "metadata": {
        "id": "a17NyUlhbbem"
      },
      "source": [
        "from simpletransformers.classification import ClassificationModel, ClassificationArgs\n",
        "import pandas as pd\n",
        "import logging\n",
        "\n",
        "\n",
        "logging.basicConfig(level=logging.INFO)\n",
        "transformers_logger = logging.getLogger(\"transformers\")\n",
        "transformers_logger.setLevel(logging.WARNING)\n",
        "\n",
        "# Preparing train data\n",
        "train_df = pd.read_csv('/content/drive/MyDrive/ProgettoTA/Data/trainingST3.csv')\n",
        "train_df = train_df[['text','labels']].values.tolist()  # trasformo i records in liste per utilizzare SimpleTransformers\n",
        "    \n",
        "\n",
        "# Preparing eval data\n",
        "\n",
        "eval_df = pd.read_csv('/content/drive/MyDrive/ProgettoTA/Data/testST3.csv')\n",
        "eval_df = eval_df[['text','labels']].values.tolist() # trasformo i records in liste per utilizzare SimpleTransformers\n",
        "\n",
        "# Optional model configuration\n",
        "model_args = ClassificationArgs(num_train_epochs=12, overwrite_output_dir = True)\n",
        "\n",
        "# Create a ClassificationModel\n",
        "model = ClassificationModel(\n",
        "    \"bert\", \"m-polignano-uniba/bert_uncased_L-12_H-768_A-12_italian_alb3rt0\", args=model_args, use_cuda = True\n",
        ")\n",
        "\n",
        "# Train the model\n",
        "model.train_model(pd.DataFrame(train_df))\n",
        "\n",
        "# Evaluate the model\n",
        "result, model_outputs, wrong_predictions = model.eval_model(pd.DataFrame(eval_df))\n"
      ],
      "execution_count": null,
      "outputs": []
    }
  ]
}